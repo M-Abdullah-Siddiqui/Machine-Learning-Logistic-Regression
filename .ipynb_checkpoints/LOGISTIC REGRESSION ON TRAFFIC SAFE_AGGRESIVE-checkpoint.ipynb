{
 "cells": [
  {
   "cell_type": "code",
   "execution_count": 1,
   "metadata": {},
   "outputs": [],
   "source": [
    "import pandas as pd\n",
    "import numpy as np\n",
    "import matplotlib.pyplot as plt\n",
    "import seaborn as sns\n",
    "%matplotlib inline"
   ]
  },
  {
   "cell_type": "code",
   "execution_count": 2,
   "metadata": {},
   "outputs": [
    {
     "data": {
      "text/html": [
       "<div>\n",
       "<style scoped>\n",
       "    .dataframe tbody tr th:only-of-type {\n",
       "        vertical-align: middle;\n",
       "    }\n",
       "\n",
       "    .dataframe tbody tr th {\n",
       "        vertical-align: top;\n",
       "    }\n",
       "\n",
       "    .dataframe thead th {\n",
       "        text-align: right;\n",
       "    }\n",
       "</style>\n",
       "<table border=\"1\" class=\"dataframe\">\n",
       "  <thead>\n",
       "    <tr style=\"text-align: right;\">\n",
       "      <th></th>\n",
       "      <th>sats</th>\n",
       "      <th>time</th>\n",
       "      <th>long</th>\n",
       "      <th>lat</th>\n",
       "      <th>velocity</th>\n",
       "      <th>heading</th>\n",
       "      <th>height</th>\n",
       "      <th>vert-vel</th>\n",
       "      <th>GPS-Longacc</th>\n",
       "      <th>turn-radius</th>\n",
       "      <th>Centre-Line-Deviation</th>\n",
       "      <th>AbsHead</th>\n",
       "      <th>Longacc</th>\n",
       "      <th>Latacc</th>\n",
       "      <th>rel-height</th>\n",
       "      <th>value</th>\n",
       "    </tr>\n",
       "  </thead>\n",
       "  <tbody>\n",
       "    <tr>\n",
       "      <th>0</th>\n",
       "      <td>8</td>\n",
       "      <td>75400.2</td>\n",
       "      <td>118.811564</td>\n",
       "      <td>31.873945</td>\n",
       "      <td>40.629</td>\n",
       "      <td>329.96</td>\n",
       "      <td>13.39</td>\n",
       "      <td>0.396</td>\n",
       "      <td>-0.21</td>\n",
       "      <td>153.00</td>\n",
       "      <td>-4600.0</td>\n",
       "      <td>-2190.00</td>\n",
       "      <td>-0.21</td>\n",
       "      <td>0.26</td>\n",
       "      <td>6.346</td>\n",
       "      <td>safe</td>\n",
       "    </tr>\n",
       "    <tr>\n",
       "      <th>1</th>\n",
       "      <td>7</td>\n",
       "      <td>74728.2</td>\n",
       "      <td>118.806453</td>\n",
       "      <td>31.885305</td>\n",
       "      <td>75.244</td>\n",
       "      <td>169.24</td>\n",
       "      <td>7.81</td>\n",
       "      <td>0.324</td>\n",
       "      <td>-0.36</td>\n",
       "      <td>764.00</td>\n",
       "      <td>-3230.0</td>\n",
       "      <td>-1990.80</td>\n",
       "      <td>-0.36</td>\n",
       "      <td>0.17</td>\n",
       "      <td>0.883</td>\n",
       "      <td>safe</td>\n",
       "    </tr>\n",
       "    <tr>\n",
       "      <th>2</th>\n",
       "      <td>10</td>\n",
       "      <td>83339.3</td>\n",
       "      <td>118.725786</td>\n",
       "      <td>31.976623</td>\n",
       "      <td>84.203</td>\n",
       "      <td>109.12</td>\n",
       "      <td>14.69</td>\n",
       "      <td>1.656</td>\n",
       "      <td>0.11</td>\n",
       "      <td>1000.00</td>\n",
       "      <td>-2620.0</td>\n",
       "      <td>-970.88</td>\n",
       "      <td>0.11</td>\n",
       "      <td>-0.15</td>\n",
       "      <td>13.281</td>\n",
       "      <td>safe</td>\n",
       "    </tr>\n",
       "    <tr>\n",
       "      <th>3</th>\n",
       "      <td>10</td>\n",
       "      <td>75827.8</td>\n",
       "      <td>118.821482</td>\n",
       "      <td>31.879242</td>\n",
       "      <td>51.954</td>\n",
       "      <td>202.88</td>\n",
       "      <td>15.86</td>\n",
       "      <td>-0.288</td>\n",
       "      <td>0.03</td>\n",
       "      <td>56.50</td>\n",
       "      <td>-5830.0</td>\n",
       "      <td>-1237.10</td>\n",
       "      <td>0.03</td>\n",
       "      <td>-0.30</td>\n",
       "      <td>8.033</td>\n",
       "      <td>safe</td>\n",
       "    </tr>\n",
       "    <tr>\n",
       "      <th>4</th>\n",
       "      <td>6</td>\n",
       "      <td>75241.7</td>\n",
       "      <td>118.811997</td>\n",
       "      <td>31.873418</td>\n",
       "      <td>3.988</td>\n",
       "      <td>318.19</td>\n",
       "      <td>12.89</td>\n",
       "      <td>0.288</td>\n",
       "      <td>0.38</td>\n",
       "      <td>1.83</td>\n",
       "      <td>-4640.0</td>\n",
       "      <td>-2201.80</td>\n",
       "      <td>0.38</td>\n",
       "      <td>0.25</td>\n",
       "      <td>6.023</td>\n",
       "      <td>safe</td>\n",
       "    </tr>\n",
       "    <tr>\n",
       "      <th>...</th>\n",
       "      <td>...</td>\n",
       "      <td>...</td>\n",
       "      <td>...</td>\n",
       "      <td>...</td>\n",
       "      <td>...</td>\n",
       "      <td>...</td>\n",
       "      <td>...</td>\n",
       "      <td>...</td>\n",
       "      <td>...</td>\n",
       "      <td>...</td>\n",
       "      <td>...</td>\n",
       "      <td>...</td>\n",
       "      <td>...</td>\n",
       "      <td>...</td>\n",
       "      <td>...</td>\n",
       "      <td>...</td>\n",
       "    </tr>\n",
       "    <tr>\n",
       "      <th>19652</th>\n",
       "      <td>7</td>\n",
       "      <td>75234.1</td>\n",
       "      <td>118.812214</td>\n",
       "      <td>31.873057</td>\n",
       "      <td>38.591</td>\n",
       "      <td>331.00</td>\n",
       "      <td>13.01</td>\n",
       "      <td>0.648</td>\n",
       "      <td>0.00</td>\n",
       "      <td>86.90</td>\n",
       "      <td>-4660.0</td>\n",
       "      <td>-2189.00</td>\n",
       "      <td>0.00</td>\n",
       "      <td>-0.52</td>\n",
       "      <td>5.403</td>\n",
       "      <td>safe</td>\n",
       "    </tr>\n",
       "    <tr>\n",
       "      <th>19653</th>\n",
       "      <td>8</td>\n",
       "      <td>74017.0</td>\n",
       "      <td>118.803222</td>\n",
       "      <td>31.895311</td>\n",
       "      <td>38.168</td>\n",
       "      <td>263.67</td>\n",
       "      <td>9.70</td>\n",
       "      <td>0.252</td>\n",
       "      <td>0.07</td>\n",
       "      <td>220.00</td>\n",
       "      <td>-1160.0</td>\n",
       "      <td>-1896.30</td>\n",
       "      <td>0.07</td>\n",
       "      <td>-0.03</td>\n",
       "      <td>-0.053</td>\n",
       "      <td>safe</td>\n",
       "    </tr>\n",
       "    <tr>\n",
       "      <th>19654</th>\n",
       "      <td>8</td>\n",
       "      <td>83631.4</td>\n",
       "      <td>118.756129</td>\n",
       "      <td>31.969635</td>\n",
       "      <td>98.318</td>\n",
       "      <td>79.47</td>\n",
       "      <td>30.49</td>\n",
       "      <td>0.756</td>\n",
       "      <td>0.07</td>\n",
       "      <td>1000.00</td>\n",
       "      <td>-2110.0</td>\n",
       "      <td>-1000.50</td>\n",
       "      <td>0.07</td>\n",
       "      <td>0.19</td>\n",
       "      <td>29.691</td>\n",
       "      <td>safe</td>\n",
       "    </tr>\n",
       "    <tr>\n",
       "      <th>19655</th>\n",
       "      <td>8</td>\n",
       "      <td>74511.7</td>\n",
       "      <td>118.796810</td>\n",
       "      <td>31.894006</td>\n",
       "      <td>64.409</td>\n",
       "      <td>59.56</td>\n",
       "      <td>13.70</td>\n",
       "      <td>-0.396</td>\n",
       "      <td>-0.03</td>\n",
       "      <td>1000.00</td>\n",
       "      <td>-2540.0</td>\n",
       "      <td>-2100.40</td>\n",
       "      <td>-0.03</td>\n",
       "      <td>-0.17</td>\n",
       "      <td>2.433</td>\n",
       "      <td>safe</td>\n",
       "    </tr>\n",
       "    <tr>\n",
       "      <th>19656</th>\n",
       "      <td>9</td>\n",
       "      <td>83155.4</td>\n",
       "      <td>118.708275</td>\n",
       "      <td>31.968267</td>\n",
       "      <td>81.216</td>\n",
       "      <td>32.23</td>\n",
       "      <td>8.95</td>\n",
       "      <td>0.216</td>\n",
       "      <td>0.16</td>\n",
       "      <td>1000.00</td>\n",
       "      <td>-1760.0</td>\n",
       "      <td>-1047.80</td>\n",
       "      <td>0.16</td>\n",
       "      <td>0.06</td>\n",
       "      <td>7.962</td>\n",
       "      <td>safe</td>\n",
       "    </tr>\n",
       "  </tbody>\n",
       "</table>\n",
       "<p>19657 rows × 16 columns</p>\n",
       "</div>"
      ],
      "text/plain": [
       "       sats     time        long        lat  velocity  heading  height  \\\n",
       "0         8  75400.2  118.811564  31.873945    40.629   329.96   13.39   \n",
       "1         7  74728.2  118.806453  31.885305    75.244   169.24    7.81   \n",
       "2        10  83339.3  118.725786  31.976623    84.203   109.12   14.69   \n",
       "3        10  75827.8  118.821482  31.879242    51.954   202.88   15.86   \n",
       "4         6  75241.7  118.811997  31.873418     3.988   318.19   12.89   \n",
       "...     ...      ...         ...        ...       ...      ...     ...   \n",
       "19652     7  75234.1  118.812214  31.873057    38.591   331.00   13.01   \n",
       "19653     8  74017.0  118.803222  31.895311    38.168   263.67    9.70   \n",
       "19654     8  83631.4  118.756129  31.969635    98.318    79.47   30.49   \n",
       "19655     8  74511.7  118.796810  31.894006    64.409    59.56   13.70   \n",
       "19656     9  83155.4  118.708275  31.968267    81.216    32.23    8.95   \n",
       "\n",
       "       vert-vel  GPS-Longacc  turn-radius  Centre-Line-Deviation  AbsHead  \\\n",
       "0         0.396        -0.21       153.00                -4600.0 -2190.00   \n",
       "1         0.324        -0.36       764.00                -3230.0 -1990.80   \n",
       "2         1.656         0.11      1000.00                -2620.0  -970.88   \n",
       "3        -0.288         0.03        56.50                -5830.0 -1237.10   \n",
       "4         0.288         0.38         1.83                -4640.0 -2201.80   \n",
       "...         ...          ...          ...                    ...      ...   \n",
       "19652     0.648         0.00        86.90                -4660.0 -2189.00   \n",
       "19653     0.252         0.07       220.00                -1160.0 -1896.30   \n",
       "19654     0.756         0.07      1000.00                -2110.0 -1000.50   \n",
       "19655    -0.396        -0.03      1000.00                -2540.0 -2100.40   \n",
       "19656     0.216         0.16      1000.00                -1760.0 -1047.80   \n",
       "\n",
       "       Longacc  Latacc  rel-height value  \n",
       "0        -0.21    0.26       6.346  safe  \n",
       "1        -0.36    0.17       0.883  safe  \n",
       "2         0.11   -0.15      13.281  safe  \n",
       "3         0.03   -0.30       8.033  safe  \n",
       "4         0.38    0.25       6.023  safe  \n",
       "...        ...     ...         ...   ...  \n",
       "19652     0.00   -0.52       5.403  safe  \n",
       "19653     0.07   -0.03      -0.053  safe  \n",
       "19654     0.07    0.19      29.691  safe  \n",
       "19655    -0.03   -0.17       2.433  safe  \n",
       "19656     0.16    0.06       7.962  safe  \n",
       "\n",
       "[19657 rows x 16 columns]"
      ]
     },
     "execution_count": 2,
     "metadata": {},
     "output_type": "execute_result"
    }
   ],
   "source": [
    "data = pd.read_csv(\"VBOX - supervised.csv\")\n",
    "data"
   ]
  },
  {
   "cell_type": "code",
   "execution_count": 3,
   "metadata": {},
   "outputs": [
    {
     "data": {
      "text/plain": [
       "safe          19492\n",
       "aggressive      165\n",
       "Name: value, dtype: int64"
      ]
     },
     "execution_count": 3,
     "metadata": {},
     "output_type": "execute_result"
    }
   ],
   "source": [
    "data[\"value\"].value_counts()"
   ]
  },
  {
   "cell_type": "code",
   "execution_count": 4,
   "metadata": {},
   "outputs": [
    {
     "data": {
      "image/png": "[encoded data removed]",
      "text/plain": [
       "<Figure size 432x288 with 1 Axes>"
      ]
     },
     "metadata": {
      "needs_background": "light"
     },
     "output_type": "display_data"
    }
   ],
   "source": [
    "g = sns.countplot(data['value'])\n",
    "g.set_xticklabels(['safe','aggressive'])\n",
    "plt.show()"
   ]
  },
  {
   "cell_type": "markdown",
   "metadata": {},
   "source": [
    "# Data Cleaning/Filtering"
   ]
  },
  {
   "cell_type": "code",
   "execution_count": 5,
   "metadata": {},
   "outputs": [],
   "source": [
    "data.replace({'value':{'aggressive':0,'safe':1}},inplace=True)"
   ]
  },
  {
   "cell_type": "code",
   "execution_count": 6,
   "metadata": {},
   "outputs": [
    {
     "data": {
      "text/html": [
       "<div>\n",
       "<style scoped>\n",
       "    .dataframe tbody tr th:only-of-type {\n",
       "        vertical-align: middle;\n",
       "    }\n",
       "\n",
       "    .dataframe tbody tr th {\n",
       "        vertical-align: top;\n",
       "    }\n",
       "\n",
       "    .dataframe thead th {\n",
       "        text-align: right;\n",
       "    }\n",
       "</style>\n",
       "<table border=\"1\" class=\"dataframe\">\n",
       "  <thead>\n",
       "    <tr style=\"text-align: right;\">\n",
       "      <th></th>\n",
       "      <th>sats</th>\n",
       "      <th>time</th>\n",
       "      <th>long</th>\n",
       "      <th>lat</th>\n",
       "      <th>velocity</th>\n",
       "      <th>heading</th>\n",
       "      <th>height</th>\n",
       "      <th>vert-vel</th>\n",
       "      <th>GPS-Longacc</th>\n",
       "      <th>turn-radius</th>\n",
       "      <th>Centre-Line-Deviation</th>\n",
       "      <th>AbsHead</th>\n",
       "      <th>Longacc</th>\n",
       "      <th>Latacc</th>\n",
       "      <th>rel-height</th>\n",
       "      <th>value</th>\n",
       "    </tr>\n",
       "  </thead>\n",
       "  <tbody>\n",
       "    <tr>\n",
       "      <th>0</th>\n",
       "      <td>8</td>\n",
       "      <td>75400.2</td>\n",
       "      <td>118.811564</td>\n",
       "      <td>31.873945</td>\n",
       "      <td>40.629</td>\n",
       "      <td>329.96</td>\n",
       "      <td>13.39</td>\n",
       "      <td>0.396</td>\n",
       "      <td>-0.21</td>\n",
       "      <td>153.00</td>\n",
       "      <td>-4600.0</td>\n",
       "      <td>-2190.00</td>\n",
       "      <td>-0.21</td>\n",
       "      <td>0.26</td>\n",
       "      <td>6.346</td>\n",
       "      <td>1</td>\n",
       "    </tr>\n",
       "    <tr>\n",
       "      <th>1</th>\n",
       "      <td>7</td>\n",
       "      <td>74728.2</td>\n",
       "      <td>118.806453</td>\n",
       "      <td>31.885305</td>\n",
       "      <td>75.244</td>\n",
       "      <td>169.24</td>\n",
       "      <td>7.81</td>\n",
       "      <td>0.324</td>\n",
       "      <td>-0.36</td>\n",
       "      <td>764.00</td>\n",
       "      <td>-3230.0</td>\n",
       "      <td>-1990.80</td>\n",
       "      <td>-0.36</td>\n",
       "      <td>0.17</td>\n",
       "      <td>0.883</td>\n",
       "      <td>1</td>\n",
       "    </tr>\n",
       "    <tr>\n",
       "      <th>2</th>\n",
       "      <td>10</td>\n",
       "      <td>83339.3</td>\n",
       "      <td>118.725786</td>\n",
       "      <td>31.976623</td>\n",
       "      <td>84.203</td>\n",
       "      <td>109.12</td>\n",
       "      <td>14.69</td>\n",
       "      <td>1.656</td>\n",
       "      <td>0.11</td>\n",
       "      <td>1000.00</td>\n",
       "      <td>-2620.0</td>\n",
       "      <td>-970.88</td>\n",
       "      <td>0.11</td>\n",
       "      <td>-0.15</td>\n",
       "      <td>13.281</td>\n",
       "      <td>1</td>\n",
       "    </tr>\n",
       "    <tr>\n",
       "      <th>3</th>\n",
       "      <td>10</td>\n",
       "      <td>75827.8</td>\n",
       "      <td>118.821482</td>\n",
       "      <td>31.879242</td>\n",
       "      <td>51.954</td>\n",
       "      <td>202.88</td>\n",
       "      <td>15.86</td>\n",
       "      <td>-0.288</td>\n",
       "      <td>0.03</td>\n",
       "      <td>56.50</td>\n",
       "      <td>-5830.0</td>\n",
       "      <td>-1237.10</td>\n",
       "      <td>0.03</td>\n",
       "      <td>-0.30</td>\n",
       "      <td>8.033</td>\n",
       "      <td>1</td>\n",
       "    </tr>\n",
       "    <tr>\n",
       "      <th>4</th>\n",
       "      <td>6</td>\n",
       "      <td>75241.7</td>\n",
       "      <td>118.811997</td>\n",
       "      <td>31.873418</td>\n",
       "      <td>3.988</td>\n",
       "      <td>318.19</td>\n",
       "      <td>12.89</td>\n",
       "      <td>0.288</td>\n",
       "      <td>0.38</td>\n",
       "      <td>1.83</td>\n",
       "      <td>-4640.0</td>\n",
       "      <td>-2201.80</td>\n",
       "      <td>0.38</td>\n",
       "      <td>0.25</td>\n",
       "      <td>6.023</td>\n",
       "      <td>1</td>\n",
       "    </tr>\n",
       "  </tbody>\n",
       "</table>\n",
       "</div>"
      ],
      "text/plain": [
       "   sats     time        long        lat  velocity  heading  height  vert-vel  \\\n",
       "0     8  75400.2  118.811564  31.873945    40.629   329.96   13.39     0.396   \n",
       "1     7  74728.2  118.806453  31.885305    75.244   169.24    7.81     0.324   \n",
       "2    10  83339.3  118.725786  31.976623    84.203   109.12   14.69     1.656   \n",
       "3    10  75827.8  118.821482  31.879242    51.954   202.88   15.86    -0.288   \n",
       "4     6  75241.7  118.811997  31.873418     3.988   318.19   12.89     0.288   \n",
       "\n",
       "   GPS-Longacc  turn-radius  Centre-Line-Deviation  AbsHead  Longacc  Latacc  \\\n",
       "0        -0.21       153.00                -4600.0 -2190.00    -0.21    0.26   \n",
       "1        -0.36       764.00                -3230.0 -1990.80    -0.36    0.17   \n",
       "2         0.11      1000.00                -2620.0  -970.88     0.11   -0.15   \n",
       "3         0.03        56.50                -5830.0 -1237.10     0.03   -0.30   \n",
       "4         0.38         1.83                -4640.0 -2201.80     0.38    0.25   \n",
       "\n",
       "   rel-height  value  \n",
       "0       6.346      1  \n",
       "1       0.883      1  \n",
       "2      13.281      1  \n",
       "3       8.033      1  \n",
       "4       6.023      1  "
      ]
     },
     "execution_count": 6,
     "metadata": {},
     "output_type": "execute_result"
    }
   ],
   "source": [
    "data.head()"
   ]
  },
  {
   "cell_type": "code",
   "execution_count": 7,
   "metadata": {},
   "outputs": [
    {
     "data": {
      "text/plain": [
       "1    19492\n",
       "0      165\n",
       "Name: value, dtype: int64"
      ]
     },
     "execution_count": 7,
     "metadata": {},
     "output_type": "execute_result"
    }
   ],
   "source": [
    "data[\"value\"].value_counts()"
   ]
  },
  {
   "cell_type": "code",
   "execution_count": 8,
   "metadata": {},
   "outputs": [
    {
     "data": {
      "text/html": [
       "<div>\n",
       "<style scoped>\n",
       "    .dataframe tbody tr th:only-of-type {\n",
       "        vertical-align: middle;\n",
       "    }\n",
       "\n",
       "    .dataframe tbody tr th {\n",
       "        vertical-align: top;\n",
       "    }\n",
       "\n",
       "    .dataframe thead th {\n",
       "        text-align: right;\n",
       "    }\n",
       "</style>\n",
       "<table border=\"1\" class=\"dataframe\">\n",
       "  <thead>\n",
       "    <tr style=\"text-align: right;\">\n",
       "      <th></th>\n",
       "      <th>velocity</th>\n",
       "      <th>heading</th>\n",
       "      <th>height</th>\n",
       "      <th>vert-vel</th>\n",
       "      <th>GPS-Longacc</th>\n",
       "      <th>turn-radius</th>\n",
       "      <th>Centre-Line-Deviation</th>\n",
       "      <th>AbsHead</th>\n",
       "      <th>Longacc</th>\n",
       "      <th>Latacc</th>\n",
       "      <th>rel-height</th>\n",
       "      <th>value</th>\n",
       "    </tr>\n",
       "  </thead>\n",
       "  <tbody>\n",
       "    <tr>\n",
       "      <th>0</th>\n",
       "      <td>40.629</td>\n",
       "      <td>329.96</td>\n",
       "      <td>13.39</td>\n",
       "      <td>0.396</td>\n",
       "      <td>-0.21</td>\n",
       "      <td>153.00</td>\n",
       "      <td>-4600.0</td>\n",
       "      <td>-2190.00</td>\n",
       "      <td>-0.21</td>\n",
       "      <td>0.26</td>\n",
       "      <td>6.346</td>\n",
       "      <td>1</td>\n",
       "    </tr>\n",
       "    <tr>\n",
       "      <th>1</th>\n",
       "      <td>75.244</td>\n",
       "      <td>169.24</td>\n",
       "      <td>7.81</td>\n",
       "      <td>0.324</td>\n",
       "      <td>-0.36</td>\n",
       "      <td>764.00</td>\n",
       "      <td>-3230.0</td>\n",
       "      <td>-1990.80</td>\n",
       "      <td>-0.36</td>\n",
       "      <td>0.17</td>\n",
       "      <td>0.883</td>\n",
       "      <td>1</td>\n",
       "    </tr>\n",
       "    <tr>\n",
       "      <th>2</th>\n",
       "      <td>84.203</td>\n",
       "      <td>109.12</td>\n",
       "      <td>14.69</td>\n",
       "      <td>1.656</td>\n",
       "      <td>0.11</td>\n",
       "      <td>1000.00</td>\n",
       "      <td>-2620.0</td>\n",
       "      <td>-970.88</td>\n",
       "      <td>0.11</td>\n",
       "      <td>-0.15</td>\n",
       "      <td>13.281</td>\n",
       "      <td>1</td>\n",
       "    </tr>\n",
       "    <tr>\n",
       "      <th>3</th>\n",
       "      <td>51.954</td>\n",
       "      <td>202.88</td>\n",
       "      <td>15.86</td>\n",
       "      <td>-0.288</td>\n",
       "      <td>0.03</td>\n",
       "      <td>56.50</td>\n",
       "      <td>-5830.0</td>\n",
       "      <td>-1237.10</td>\n",
       "      <td>0.03</td>\n",
       "      <td>-0.30</td>\n",
       "      <td>8.033</td>\n",
       "      <td>1</td>\n",
       "    </tr>\n",
       "    <tr>\n",
       "      <th>4</th>\n",
       "      <td>3.988</td>\n",
       "      <td>318.19</td>\n",
       "      <td>12.89</td>\n",
       "      <td>0.288</td>\n",
       "      <td>0.38</td>\n",
       "      <td>1.83</td>\n",
       "      <td>-4640.0</td>\n",
       "      <td>-2201.80</td>\n",
       "      <td>0.38</td>\n",
       "      <td>0.25</td>\n",
       "      <td>6.023</td>\n",
       "      <td>1</td>\n",
       "    </tr>\n",
       "    <tr>\n",
       "      <th>...</th>\n",
       "      <td>...</td>\n",
       "      <td>...</td>\n",
       "      <td>...</td>\n",
       "      <td>...</td>\n",
       "      <td>...</td>\n",
       "      <td>...</td>\n",
       "      <td>...</td>\n",
       "      <td>...</td>\n",
       "      <td>...</td>\n",
       "      <td>...</td>\n",
       "      <td>...</td>\n",
       "      <td>...</td>\n",
       "    </tr>\n",
       "    <tr>\n",
       "      <th>19652</th>\n",
       "      <td>38.591</td>\n",
       "      <td>331.00</td>\n",
       "      <td>13.01</td>\n",
       "      <td>0.648</td>\n",
       "      <td>0.00</td>\n",
       "      <td>86.90</td>\n",
       "      <td>-4660.0</td>\n",
       "      <td>-2189.00</td>\n",
       "      <td>0.00</td>\n",
       "      <td>-0.52</td>\n",
       "      <td>5.403</td>\n",
       "      <td>1</td>\n",
       "    </tr>\n",
       "    <tr>\n",
       "      <th>19653</th>\n",
       "      <td>38.168</td>\n",
       "      <td>263.67</td>\n",
       "      <td>9.70</td>\n",
       "      <td>0.252</td>\n",
       "      <td>0.07</td>\n",
       "      <td>220.00</td>\n",
       "      <td>-1160.0</td>\n",
       "      <td>-1896.30</td>\n",
       "      <td>0.07</td>\n",
       "      <td>-0.03</td>\n",
       "      <td>-0.053</td>\n",
       "      <td>1</td>\n",
       "    </tr>\n",
       "    <tr>\n",
       "      <th>19654</th>\n",
       "      <td>98.318</td>\n",
       "      <td>79.47</td>\n",
       "      <td>30.49</td>\n",
       "      <td>0.756</td>\n",
       "      <td>0.07</td>\n",
       "      <td>1000.00</td>\n",
       "      <td>-2110.0</td>\n",
       "      <td>-1000.50</td>\n",
       "      <td>0.07</td>\n",
       "      <td>0.19</td>\n",
       "      <td>29.691</td>\n",
       "      <td>1</td>\n",
       "    </tr>\n",
       "    <tr>\n",
       "      <th>19655</th>\n",
       "      <td>64.409</td>\n",
       "      <td>59.56</td>\n",
       "      <td>13.70</td>\n",
       "      <td>-0.396</td>\n",
       "      <td>-0.03</td>\n",
       "      <td>1000.00</td>\n",
       "      <td>-2540.0</td>\n",
       "      <td>-2100.40</td>\n",
       "      <td>-0.03</td>\n",
       "      <td>-0.17</td>\n",
       "      <td>2.433</td>\n",
       "      <td>1</td>\n",
       "    </tr>\n",
       "    <tr>\n",
       "      <th>19656</th>\n",
       "      <td>81.216</td>\n",
       "      <td>32.23</td>\n",
       "      <td>8.95</td>\n",
       "      <td>0.216</td>\n",
       "      <td>0.16</td>\n",
       "      <td>1000.00</td>\n",
       "      <td>-1760.0</td>\n",
       "      <td>-1047.80</td>\n",
       "      <td>0.16</td>\n",
       "      <td>0.06</td>\n",
       "      <td>7.962</td>\n",
       "      <td>1</td>\n",
       "    </tr>\n",
       "  </tbody>\n",
       "</table>\n",
       "<p>19657 rows × 12 columns</p>\n",
       "</div>"
      ],
      "text/plain": [
       "       velocity  heading  height  vert-vel  GPS-Longacc  turn-radius  \\\n",
       "0        40.629   329.96   13.39     0.396        -0.21       153.00   \n",
       "1        75.244   169.24    7.81     0.324        -0.36       764.00   \n",
       "2        84.203   109.12   14.69     1.656         0.11      1000.00   \n",
       "3        51.954   202.88   15.86    -0.288         0.03        56.50   \n",
       "4         3.988   318.19   12.89     0.288         0.38         1.83   \n",
       "...         ...      ...     ...       ...          ...          ...   \n",
       "19652    38.591   331.00   13.01     0.648         0.00        86.90   \n",
       "19653    38.168   263.67    9.70     0.252         0.07       220.00   \n",
       "19654    98.318    79.47   30.49     0.756         0.07      1000.00   \n",
       "19655    64.409    59.56   13.70    -0.396        -0.03      1000.00   \n",
       "19656    81.216    32.23    8.95     0.216         0.16      1000.00   \n",
       "\n",
       "       Centre-Line-Deviation  AbsHead  Longacc  Latacc  rel-height  value  \n",
       "0                    -4600.0 -2190.00    -0.21    0.26       6.346      1  \n",
       "1                    -3230.0 -1990.80    -0.36    0.17       0.883      1  \n",
       "2                    -2620.0  -970.88     0.11   -0.15      13.281      1  \n",
       "3                    -5830.0 -1237.10     0.03   -0.30       8.033      1  \n",
       "4                    -4640.0 -2201.80     0.38    0.25       6.023      1  \n",
       "...                      ...      ...      ...     ...         ...    ...  \n",
       "19652                -4660.0 -2189.00     0.00   -0.52       5.403      1  \n",
       "19653                -1160.0 -1896.30     0.07   -0.03      -0.053      1  \n",
       "19654                -2110.0 -1000.50     0.07    0.19      29.691      1  \n",
       "19655                -2540.0 -2100.40    -0.03   -0.17       2.433      1  \n",
       "19656                -1760.0 -1047.80     0.16    0.06       7.962      1  \n",
       "\n",
       "[19657 rows x 12 columns]"
      ]
     },
     "execution_count": 8,
     "metadata": {},
     "output_type": "execute_result"
    }
   ],
   "source": [
    "data.drop(['time','sats','long','lat',],axis=1,inplace=True)\n",
    "data"
   ]
  },
  {
   "cell_type": "code",
   "execution_count": 9,
   "metadata": {},
   "outputs": [
    {
     "name": "stdout",
     "output_type": "stream",
     "text": [
      "<class 'pandas.core.frame.DataFrame'>\n",
      "RangeIndex: 19657 entries, 0 to 19656\n",
      "Data columns (total 12 columns):\n",
      " #   Column                 Non-Null Count  Dtype  \n",
      "---  ------                 --------------  -----  \n",
      " 0   velocity               19657 non-null  float64\n",
      " 1   heading                19657 non-null  float64\n",
      " 2   height                 19657 non-null  float64\n",
      " 3   vert-vel               19657 non-null  float64\n",
      " 4   GPS-Longacc            19657 non-null  float64\n",
      " 5   turn-radius            19657 non-null  float64\n",
      " 6   Centre-Line-Deviation  19657 non-null  float64\n",
      " 7   AbsHead                19657 non-null  float64\n",
      " 8   Longacc                19657 non-null  float64\n",
      " 9   Latacc                 19657 non-null  float64\n",
      " 10  rel-height             19657 non-null  float64\n",
      " 11  value                  19657 non-null  int64  \n",
      "dtypes: float64(11), int64(1)\n",
      "memory usage: 1.8 MB\n"
     ]
    }
   ],
   "source": [
    "data.info()"
   ]
  },
  {
   "cell_type": "markdown",
   "metadata": {},
   "source": [
    "# Building a Logistic Regression model"
   ]
  },
  {
   "cell_type": "markdown",
   "metadata": {},
   "source": [
    "# Train Test split"
   ]
  },
  {
   "cell_type": "code",
   "execution_count": 10,
   "metadata": {},
   "outputs": [],
   "source": [
    "from sklearn.model_selection import train_test_split"
   ]
  },
  {
   "cell_type": "code",
   "execution_count": 11,
   "metadata": {},
   "outputs": [],
   "source": [
    "X_train, X_test, y_train, y_test = train_test_split(data.drop('value',axis=1), \n",
    "                                                    data['value'], test_size=0.30, \n",
    "                                                    random_state=101)"
   ]
  },
  {
   "cell_type": "code",
   "execution_count": 12,
   "metadata": {},
   "outputs": [
    {
     "data": {
      "text/plain": [
       "5898"
      ]
     },
     "execution_count": 12,
     "metadata": {},
     "output_type": "execute_result"
    }
   ],
   "source": [
    "len(y_test)"
   ]
  },
  {
   "cell_type": "markdown",
   "metadata": {},
   "source": [
    "# Training and Predicting"
   ]
  },
  {
   "cell_type": "code",
   "execution_count": 13,
   "metadata": {},
   "outputs": [],
   "source": [
    "from sklearn.linear_model import LogisticRegression"
   ]
  },
  {
   "cell_type": "code",
   "execution_count": 14,
   "metadata": {},
   "outputs": [
    {
     "name": "stderr",
     "output_type": "stream",
     "text": [
      "C:\\Users\\Abdullah\\anaconda3\\lib\\site-packages\\sklearn\\linear_model\\_logistic.py:762: ConvergenceWarning: lbfgs failed to converge (status=1):\n",
      "STOP: TOTAL NO. of ITERATIONS REACHED LIMIT.\n",
      "\n",
      "Increase the number of iterations (max_iter) or scale the data as shown in:\n",
      "    https://scikit-learn.org/stable/modules/preprocessing.html\n",
      "Please also refer to the documentation for alternative solver options:\n",
      "    https://scikit-learn.org/stable/modules/linear_model.html#logistic-regression\n",
      "  n_iter_i = _check_optimize_result(\n"
     ]
    },
    {
     "data": {
      "text/plain": [
       "LogisticRegression()"
      ]
     },
     "execution_count": 14,
     "metadata": {},
     "output_type": "execute_result"
    }
   ],
   "source": [
    "logmodel = LogisticRegression()\n",
    "logmodel.fit(X_train,y_train)"
   ]
  },
  {
   "cell_type": "code",
   "execution_count": 15,
   "metadata": {},
   "outputs": [],
   "source": [
    "predictions = logmodel.predict(X_test)"
   ]
  },
  {
   "cell_type": "markdown",
   "metadata": {},
   "source": [
    "# Evaluation"
   ]
  },
  {
   "cell_type": "code",
   "execution_count": 16,
   "metadata": {},
   "outputs": [],
   "source": [
    "from sklearn.metrics import classification_report"
   ]
  },
  {
   "cell_type": "code",
   "execution_count": 17,
   "metadata": {},
   "outputs": [
    {
     "name": "stdout",
     "output_type": "stream",
     "text": [
      "              precision    recall  f1-score   support\n",
      "\n",
      "           0       0.00      0.00      0.00        57\n",
      "           1       0.99      1.00      1.00      5841\n",
      "\n",
      "    accuracy                           0.99      5898\n",
      "   macro avg       0.50      0.50      0.50      5898\n",
      "weighted avg       0.98      0.99      0.99      5898\n",
      "\n"
     ]
    },
    {
     "name": "stderr",
     "output_type": "stream",
     "text": [
      "C:\\Users\\Abdullah\\anaconda3\\lib\\site-packages\\sklearn\\metrics\\_classification.py:1221: UndefinedMetricWarning: Precision and F-score are ill-defined and being set to 0.0 in labels with no predicted samples. Use `zero_division` parameter to control this behavior.\n",
      "  _warn_prf(average, modifier, msg_start, len(result))\n"
     ]
    }
   ],
   "source": [
    "print(classification_report(y_test,predictions))"
   ]
  },
  {
   "cell_type": "markdown",
   "metadata": {},
   "source": [
    "# TO REDUCE THE EFFECT OF IMBALANCE DATA PENALIZE ALGORITHM IS USED "
   ]
  },
  {
   "cell_type": "code",
   "execution_count": 19,
   "metadata": {},
   "outputs": [
    {
     "name": "stdout",
     "output_type": "stream",
     "text": [
      "              precision    recall  f1-score   support\n",
      "\n",
      "           0       0.02      0.81      0.04        57\n",
      "           1       1.00      0.57      0.73      5841\n",
      "\n",
      "    accuracy                           0.57      5898\n",
      "   macro avg       0.51      0.69      0.38      5898\n",
      "weighted avg       0.99      0.57      0.72      5898\n",
      "\n"
     ]
    }
   ],
   "source": [
    "# load library\n",
    "from sklearn.svm import SVC\n",
    "\n",
    "# we can add class_weight='balanced' to add panalize mistake\n",
    "svc_model = SVC(class_weight='balanced', probability=True)\n",
    "\n",
    "svc_model.fit(X_train, y_train)\n",
    "\n",
    "svc_predict = svc_model.predict(X_test)# check performance\n",
    "print(classification_report(y_test,svc_predict))"
   ]
  },
  {
   "cell_type": "code",
   "execution_count": 20,
   "metadata": {},
   "outputs": [],
   "source": [
    "from sklearn.metrics import f1_score"
   ]
  },
  {
   "cell_type": "code",
   "execution_count": 21,
   "metadata": {},
   "outputs": [
    {
     "data": {
      "text/plain": [
       "0.7274111123192345"
      ]
     },
     "execution_count": 21,
     "metadata": {},
     "output_type": "execute_result"
    }
   ],
   "source": [
    "f1_score(y_test,svc_predict)"
   ]
  },
  {
   "cell_type": "markdown",
   "metadata": {},
   "source": [
    "# TO REDUCE THE EFFECT OF IMBALANCE DATA RANDOM FOREST MODEL IS USED "
   ]
  },
  {
   "cell_type": "code",
   "execution_count": null,
   "metadata": {},
   "outputs": [],
   "source": [
    "# load library\n",
    "from sklearn.ensemble import RandomForestClassifier\n",
    "\n",
    "rfc = RandomForestClassifier()\n",
    "\n",
    "# fit the predictor and target\n",
    "rfc.fit(X_train, y_train)\n",
    "\n",
    "# predict\n",
    "rfc_predict = rfc.predict(X_test)# check performance\n",
    "print(classification_report(y_test,rfc_predict))"
   ]
  },
  {
   "cell_type": "code",
   "execution_count": null,
   "metadata": {},
   "outputs": [],
   "source": []
  }
 ],
 "metadata": {
  "kernelspec": {
   "display_name": "Python 3",
   "language": "python",
   "name": "python3"
  },
  "language_info": {
   "codemirror_mode": {
    "name": "ipython",
    "version": 3
   },
   "file_extension": ".py",
   "mimetype": "text/x-python",
   "name": "python",
   "nbconvert_exporter": "python",
   "pygments_lexer": "ipython3",
   "version": "3.8.3"
  }
 },
 "nbformat": 4,
 "nbformat_minor": 4
}
